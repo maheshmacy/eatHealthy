# EAT Smart AI - Colab Implementation with Direct Gradio Interface
# --------------------------------------------------------------

# Install required packages
!pip install -q flask flask-restx pandas scikit-learn joblib requests tensorflow gradio

# Import necessary libraries for environment setup
import os
import sys
import logging
import numpy as np
import pandas as pd
import tensorflow as tf
import gradio as gr
import joblib
import requests
import json
import io
from datetime import datetime
from PIL import Image
from tensorflow.keras.preprocessing.image import load_img, img_to_array
from tensorflow.keras.models import load_model

# Suppress AVX instructions warning
os.environ['TF_CPP_MIN_LOG_LEVEL'] = '2'

# Configure logging
logging.basicConfig(
    level=logging.INFO,
    format='%(asctime)s - %(levelname)s - %(message)s',
)
logger = logging.getLogger(__name__)

# Define GlucoseResponsePredictor class
class GlucoseResponsePredictor:
    def __init__(self):
        self.model = None
        self.feature_cols = ['bmi', 'age', 'is_male', 'calories', 'carbs', 'fat', 'protein', 'fiber', 'sugar']
    
    def load_model(self, model_path):
        try:
            self.model = joblib.load(model_path)
            logger.info("Model loaded successfully")
            return True
        except Exception as e:
            logger.error(f"Error loading model: {e}")
            return False
    
    def save_model(self, model_path):
        try:
            joblib.dump(self.model, model_path)
            logger.info(f"Model saved to {model_path}")
            return True
        except Exception as e:
            logger.error(f"Error saving model: {e}")
            return False
    
    def train_model(self, data_path):
        try:
            from sklearn.ensemble import RandomForestRegressor
            from sklearn.preprocessing import StandardScaler
            from sklearn.model_selection import train_test_split
            
            # Load and prepare data
            df = pd.read_csv(data_path)
            
            # Process sex to binary feature
            df['is_male'] = df['sex'].apply(lambda x: 1 if x == 'M' else 0)
            
            # Split data
            X = df[self.feature_cols]
            y = df['iauc']  # insulin area under curve
            
            X_train, X_test, y_train, y_test = train_test_split(X, y, test_size=0.25, random_state=42)
            
            # Train model
            model = RandomForestRegressor(n_estimators=100, random_state=42)
            model.fit(X_train, y_train)
            
            # Evaluate
            train_score = model.score(X_train, y_train)
            test_score = model.score(X_test, y_test)
            
            logger.info(f"Model trained - Train score: {train_score:.4f}, Test score: {test_score:.4f}")
            
            self.model = model
            
            return {
                "train_score": train_score,
                "test_score": test_score,
                "feature_importance": dict(zip(self.feature_cols, model.feature_importances_))
            }
        
        except Exception as e:
            logger.error(f"Error training model: {e}")
            return None
    
    def predict_glucose_response(self, person, meal):
        try:
            if self.model is None:
                raise ValueError("Model not loaded")
            
            # Create feature array
            features = np.zeros(len(self.feature_cols))
            feature_dict = {
                'bmi': person.get('bmi', 0),
                'age': person.get('age', 0),
                'is_male': 1 if person.get('sex', '').upper() == 'M' else 0,
                'calories': meal.get('calories', 0),
                'carbs': meal.get('carbs', 0),
                'fat': meal.get('fat', 0),
                'protein': meal.get('protein', 0),
                'fiber': meal.get('fiber', 0),
                'sugar': meal.get('sugar', 0)
            }
            
            for i, col in enumerate(self.feature_cols):
                features[i] = feature_dict.get(col, 0)
            
            # Make prediction
            features = features.reshape(1, -1)
            prediction = float(self.model.predict(features)[0])
            
            # Calculate risk level
            if prediction < 30:
                risk_level = "Low"
                percentile = 25
            elif prediction < 60:
                risk_level = "Medium"
                percentile = 50
            else:
                risk_level = "High"
                percentile = 75
            
            # Generate explanation
            explanation = f"Based on your profile (BMI: {person.get('bmi')}, Age: {person.get('age')}) "
            explanation += f"and this meal's composition ({meal.get('carbs')}g carbs, {meal.get('fat')}g fat, "
            explanation += f"{meal.get('protein')}g protein), your predicted insulin response is {risk_level.lower()}."
            
            return {
                'iauc_prediction': round(prediction, 2),
                'risk_level': risk_level,
                'percentile': percentile,
                'explanation': explanation
            }
            
        except Exception as e:
            logger.error(f"Prediction error: {e}")
            return {
                'iauc_prediction': 0,
                'risk_level': "Unknown",
                'percentile': 0,
                'explanation': f"Error making prediction: {str(e)}"
            }

# Define lookup for GI and GL
def lookup_gi_from_csv(dish_name):
    try:
        # In Colab, we'll use a direct lookup from a dictionary for simplicity
        gi_data = {
            "pasta": 55,
            "pizza": 60,
            "salad": 15,
            "sandwich": 50,
            "steak": 0,
            "sushi": 40,
            "soup": 25,
            "chicken": 0,
            "rice": 70,
            "burger": 55,
            "fish": 0,
            "taco": 45
        }
        
        for key in gi_data:
            if key.lower() in dish_name.lower():
                return gi_data[key]
        
        return "Unknown"
    except Exception as e:
        logger.error(f"GI lookup failed: {e}")
        return "Unknown"

# Define GL calculation function
def calculate_gl(carbs, gi):
    if isinstance(gi, int) and carbs:
        return round((float(carbs) * gi) / 100, 2)
    return "Unknown"

# Nutrition client class
class NutritionClient:
    def __init__(self):
        self.session = requests.Session()
        #self.api_key = os.getenv('SPOONACULAR_API_KEY')
        self.api_key = "5fc8ae9aa4e14c7f82db51b1260babe2"
        # If no API key, use a mock response
        if not self.api_key:
            logger.warning("No Spoonacular API key found. Using mock nutrition data.")
            self.mock_data = {
                "pasta": {"calories": 350, "carbohydrates": 65, "fat": 2, "protein": 12, "fiber": 3, "sugar": 3},
                "pizza": {"calories": 300, "carbohydrates": 35, "fat": 12, "protein": 15, "fiber": 2, "sugar": 4},
                "salad": {"calories": 150, "carbohydrates": 10, "fat": 8, "protein": 5, "fiber": 4, "sugar": 5},
                "sandwich": {"calories": 350, "carbohydrates": 40, "fat": 12, "protein": 20, "fiber": 3, "sugar": 4},
                "steak": {"calories": 300, "carbohydrates": 0, "fat": 20, "protein": 30, "fiber": 0, "sugar": 0},
                "sushi": {"calories": 250, "carbohydrates": 40, "fat": 2, "protein": 15, "fiber": 1, "sugar": 5},
                "soup": {"calories": 180, "carbohydrates": 25, "fat": 5, "protein": 10, "fiber": 2, "sugar": 3},
                "chicken": {"calories": 200, "carbohydrates": 0, "fat": 8, "protein": 30, "fiber": 0, "sugar": 0},
                "rice": {"calories": 200, "carbohydrates": 45, "fat": 0.5, "protein": 4, "fiber": 0.5, "sugar": 0.1},
                "burger": {"calories": 400, "carbohydrates": 35, "fat": 20, "protein": 25, "fiber": 2, "sugar": 6},
                "fish": {"calories": 180, "carbohydrates": 0, "fat": 6, "protein": 30, "fiber": 0, "sugar": 0},
                "taco": {"calories": 250, "carbohydrates": 25, "fat": 12, "protein": 15, "fiber": 3, "sugar": 2},
                "unknown": {"calories": 200, "carbohydrates": 30, "fat": 10, "protein": 15, "fiber": 5, "sugar": 10}
            }

    def fetch_recipe_id(self, dish_name):
        try:
            if not self.api_key:
                return None
                
            search_url = "https://api.spoonacular.com/recipes/complexSearch"
            params = {
                "apiKey": self.api_key,
                "query": dish_name,
                "number": 1
            }
            response = self.session.get(search_url, params=params)
            response.raise_for_status()
            data = response.json()
            if data["results"]:
                return data["results"][0]["id"]
            else:
                return None
        except Exception as e:
            logger.error(f"Failed to fetch recipe ID: {e}")
            return None

    def fetch_nutrition(self, dish_name, normalize_to_100g=True):
        if not self.api_key:
            # Use mock data
            for key in self.mock_data:
                if key.lower() in dish_name.lower():
                    return self.mock_data[key]
            return self.mock_data["unknown"]
            
        try:
            recipe_id = self.fetch_recipe_id(dish_name)
            if recipe_id is None:
                return {}

            nutrition_url = f"https://api.spoonacular.com/recipes/{recipe_id}/nutritionWidget.json"
            params = {"apiKey": self.api_key}
            response = self.session.get(nutrition_url, params=params)
            response.raise_for_status()
            data = response.json()

            # Extract fields
            calories = float(data["calories"].replace("kcal", "").strip())
            carbs = float(data["carbs"].replace("g", "").strip())
            fat = float(data["fat"].replace("g", "").strip())
            protein = float(data["protein"].replace("g", "").strip())
            fiber = float(data.get("fiber", "0g").replace("g", "").strip())
            sugar = float(data.get("sugar", "0g").replace("g", "").strip())
            serving_weight = float(data.get("serving_weight_grams", 100))

            # Normalize to 100g if needed
            if normalize_to_100g and serving_weight != 100:
                factor = 100 / serving_weight
                calories = round(calories * factor, 2)
                carbs = round(carbs * factor, 2)
                fat = round(fat * factor, 2)
                protein = round(protein * factor, 2)
                fiber = round(fiber * factor, 2)
                sugar = round(sugar * factor, 2)

            nutrition = {
                "calories": calories,
                "carbohydrates": carbs,
                "fat": fat,
                "protein": protein,
                "fiber": fiber,
                "sugar": sugar,
                "serving_weight_grams": serving_weight
            }
            return nutrition

        except Exception as e:
            logger.error(f"Failed to fetch detailed nutrition: {e}")
            return {}

    def close(self):
        self.session.close()

# Function to estimate glycemic impact
def estimate_glycemic_impact(meal):
    """Estimate glycemic impact of a meal without using the ML model"""
    # Base impact from carbs
    impact = meal['carbs'] * 1.0
    
    # Reduce impact based on fiber
    if meal['fiber'] > 0:
        fiber_factor = min(0.5, meal['fiber'] / meal['carbs'] if meal['carbs'] > 0 else 0)
        impact *= (1 - fiber_factor)
    
    # Increase impact based on sugar
    sugar_factor = min(0.5, meal['sugar'] / meal['carbs'] if meal['carbs'] > 0 else 0)
    impact *= (1 + sugar_factor)
    
    # Reduce impact based on fat and protein
    fat_protein = meal['fat'] + meal['protein']
    if fat_protein > 0:
        fp_factor = min(0.4, (fat_protein) / (meal['carbs'] * 2) if meal['carbs'] > 0 else 0)
        impact *= (1 - fp_factor)
    
    # Categorize the impact
    if impact < 20:
        return "Low"
    elif impact < 40:
        return "Medium"
    else:
        return "High"

# Initialize the predictor and other components
predictor = GlucoseResponsePredictor()
nutrition_client = NutritionClient()

# Check if we have a saved model
MODEL_PATH = "glucose_model.joblib"

# Create a simple model if it doesn't exist
if not os.path.exists(MODEL_PATH):
    from sklearn.ensemble import RandomForestRegressor
    
    # Create a simple model
    model = RandomForestRegressor(n_estimators=10, random_state=42)
    # Create some dummy features
    X = np.random.rand(100, 9)
    y = np.random.rand(100)
    model.fit(X, y)
    predictor.model = model
    joblib.dump(model, MODEL_PATH)
    logger.info("Created a simple model for testing")
else:
    predictor.load_model(MODEL_PATH)

# Food recognition model configuration
FOOD_MODEL_PATH = "food_classifier.h5"
class_names = ["pasta", "pizza", "salad", "sandwich", "steak", "sushi", "soup", "chicken", "rice", "burger", "fish", "taco"]
IMG_SIZE = 224

# Create a simple food recognition model if it doesn't exist
if not os.path.exists(FOOD_MODEL_PATH):
    # Create a simple model for demonstration
    inputs = tf.keras.Input(shape=(IMG_SIZE, IMG_SIZE, 3))
    x = tf.keras.layers.Conv2D(32, 3, activation='relu')(inputs)
    x = tf.keras.layers.GlobalAveragePooling2D()(x)
    outputs = tf.keras.layers.Dense(len(class_names), activation='softmax')(x)
    food_model = tf.keras.Model(inputs=inputs, outputs=outputs)
    food_model.compile(optimizer='adam', loss='categorical_crossentropy')
    food_model.save(FOOD_MODEL_PATH)
    logger.info("Created a simple food recognition model for testing")
else:
    try:
        food_model = tf.keras.models.load_model(FOOD_MODEL_PATH)
        logger.info("Food model loaded successfully")
    except Exception as e:
        logger.error(f"Failed to load food model: {e}")
        # Create a simple model as fallback
        inputs = tf.keras.Input(shape=(IMG_SIZE, IMG_SIZE, 3))
        x = tf.keras.layers.Conv2D(32, 3, activation='relu')(inputs)
        x = tf.keras.layers.GlobalAveragePooling2D()(x)
        outputs = tf.keras.layers.Dense(len(class_names), activation='softmax')(x)
        food_model = tf.keras.Model(inputs=inputs, outputs=outputs)
        food_model.compile(optimizer='adam', loss='categorical_crossentropy')
        food_model.save(FOOD_MODEL_PATH)
        logger.info("Created a fallback food recognition model")

# Food Image Analysis Function
def analyze_food_image(image, bmi=None, age=None, sex=None):
    """Analyze a food image and predict nutritional content and glucose response"""
    if image is None:
        return "Please upload an image"
    
    try:
        # Process image for prediction
        img = image.resize((IMG_SIZE, IMG_SIZE))
        x = img_to_array(img) / 255.0
        x = np.expand_dims(x, axis=0)
        
        # Make prediction
        with tf.device('/CPU:0'):  # Using CPU for simplicity
            prediction = food_model(x, training=False)[0]
        
        # Get prediction results
        top_idx = np.argmax(prediction)
        if len(class_names) > top_idx:
            predicted_dish = class_names[top_idx]
            confidence = float(prediction[top_idx])
        else:
            predicted_dish = "Unknown food"
            confidence = 0.0
        
        # Fetch nutrition information
        nutrition = nutrition_client.fetch_nutrition(predicted_dish)
        if not nutrition:
            # Fallback default nutrition values
            nutrition = {
                "calories": 200,
                "carbohydrates": 30,
                "fat": 10,
                "protein": 15,
                "fiber": 5,
                "sugar": 10
            }
        
        # Get glycemic index and calculate glycemic load
        gi = lookup_gi_from_csv(predicted_dish)
        carbs = nutrition.get("carbohydrates", None)
        gl = calculate_gl(carbs, gi)
        
        # Log prediction
        logger.info(
            f"Food prediction: {predicted_dish}, Confidence: {confidence:.2f}, "
            f"GI: {gi}, GL: {gl}"
        )
        
        # Format food item 
        food_item = {
            "name": predicted_dish,
            "confidence": confidence,
            "portion_size": "1 serving",
            "nutrients": {
                "calories": nutrition.get("calories", 0),
                "carbs": nutrition.get("carbohydrates", 0),
                "fat": nutrition.get("fat", 0),
                "protein": nutrition.get("protein", 0),
                "fiber": nutrition.get("fiber", 0),
                "sugar": nutrition.get("sugar", 0)
            }
        }
        
        # Prepare food analysis response
        food_analysis = {
            "identified_foods": [food_item],
            "total_nutrients": {
                "calories": nutrition.get("calories", 0),
                "carbs": nutrition.get("carbohydrates", 0),
                "fat": nutrition.get("fat", 0),
                "protein": nutrition.get("protein", 0),
                "fiber": nutrition.get("fiber", 0),
                "sugar": nutrition.get("sugar", 0)
            }
        }
        
        # Format the output as a readable string
        output = []
        
        output.append("## Food Analysis Results")
        
        foods = food_analysis["identified_foods"]
        for food in foods:
            output.append(f"### Detected: {food['name']} (Confidence: {food['confidence']:.2f})")
            output.append(f"**Portion size:** {food['portion_size']}")
            output.append("**Nutrients per serving:**")
            for k, v in food['nutrients'].items():
                output.append(f"- {k.title()}: {v}")
            
            # Add glycemic info if available
            gi = lookup_gi_from_csv(food['name'])
            if gi != "Unknown":
                carbs = food['nutrients']['carbs']
                gl = calculate_gl(carbs, gi)
                output.append(f"- Glycemic Index: {gi}")
                output.append(f"- Glycemic Load: {gl}")
        
        # If person info is provided, make glucose prediction
        if bmi is not None and age is not None and sex is not None:
            person = {
                "bmi": float(bmi),
                "age": int(age),
                "sex": sex
            }
            
            glucose_prediction = predictor.predict_glucose_response(
                person,
                food_analysis["total_nutrients"]
            )
            
            # Add guidelines and recommendations
            if glucose_prediction:
                guidelines = []
                
                if glucose_prediction['risk_level'] == 'High':
                    guidelines.append("Consider reducing carbohydrates or adding more fiber to this meal.")
                    guidelines.append("Pairing carbohydrates with protein and healthy fats may help reduce glucose impact.")
                elif glucose_prediction['risk_level'] == 'Medium':
                    guidelines.append("This meal has a moderate impact on blood glucose.")
                    guidelines.append("Consider physical activity after eating to help manage glucose levels.")
                else:
                    guidelines.append("This meal should have minimal impact on blood glucose levels.")
                
                recommendations = []
                nutrients = food_analysis["total_nutrients"]
                
                if nutrients['carbs'] > 50 and nutrients['fiber'] < 5:
                    recommendations.append("This meal is high in carbs and low in fiber. Adding fiber can help reduce glucose impact.")
                
                if nutrients['sugar'] > 25:
                    recommendations.append("This meal is high in sugar. Consider reducing added sugars.")
                
                glucose_prediction["guidelines"] = guidelines
                glucose_prediction["recommendations"] = recommendations
                
                output.append("\n## Glucose Response Prediction")
                output.append(f"**Risk Level:** {glucose_prediction['risk_level']}")
                output.append(f"**Percentile:** {glucose_prediction['percentile']}")
                output.append(f"**Explanation:** {glucose_prediction['explanation']}")
                
                output.append("\n**Guidelines:**")
                for guideline in glucose_prediction["guidelines"]:
                    output.append(f"- {guideline}")
                
                if glucose_prediction["recommendations"]:
                    output.append("\n**Recommendations:**")
                    for rec in glucose_prediction["recommendations"]:
                        output.append(f"- {rec}")
        
        return "\n".join(output)
        
    except Exception as e:
        logger.error(f"Image analysis error: {e}")
        return f"Error analyzing image: {str(e)}"

# Meal Analysis Function
def analyze_meal(calories, carbs, fat, protein, fiber, sugar):
    """Analyze meal nutritional composition"""
    meal = {
        "calories": float(calories),
        "carbs": float(carbs),
        "fat": float(fat),
        "protein": float(protein),
        "fiber": float(fiber),
        "sugar": float(sugar)
    }
    
    # Analyze meal composition
    try:
        total_macros = meal['carbs'] + meal['fat'] + meal['protein']
        carb_pct = (meal['carbs'] / total_macros) * 100 if total_macros > 0 else 0
        fat_pct = (meal['fat'] / total_macros) * 100 if total_macros > 0 else 0
        protein_pct = (meal['protein'] / total_macros) * 100 if total_macros > 0 else 0
        
        # Calculate calorie distribution
        carb_cals = meal['carbs'] * 4
        fat_cals = meal['fat'] * 9
        protein_cals = meal['protein'] * 4
        total_cals = carb_cals + fat_cals + protein_cals
        
        carb_cal_pct = (carb_cals / total_cals) * 100 if total_cals > 0 else 0
        fat_cal_pct = (fat_cals / total_cals) * 100 if total_cals > 0 else 0
        protein_cal_pct = (protein_cals / total_cals) * 100 if total_cals > 0 else 0
        
        # Calculate fiber-to-carb ratio
        fiber_to_carb = meal['fiber'] / meal['carbs'] if meal['carbs'] > 0 else 0
        
        # Analyze meal characteristics
        characteristics = []
        
        if carb_pct > 60:
            characteristics.append("High-carbohydrate meal")
        elif carb_pct < 20:
            characteristics.append("Low-carbohydrate meal")
            
        if fat_pct > 40:
            characteristics.append("High-fat meal")
        elif fat_pct < 15:
            characteristics.append("Low-fat meal")
            
        if protein_pct > 30:
            characteristics.append("High-protein meal")
        elif protein_pct < 10:
            characteristics.append("Low-protein meal")
            
        if meal['fiber'] > 8:
            characteristics.append("High-fiber meal")
        elif meal['fiber'] < 2:
            characteristics.append("Low-fiber meal")
            
        if meal['sugar'] > 25:
            characteristics.append("High-sugar meal")
        
        # Generate recommendations
        recommendations = []
        
        if meal['fiber'] < 5 and meal['carbs'] > 30:
            recommendations.append("Consider adding more fiber to help slow glucose absorption.")
            
        if meal['sugar'] > 20 and meal['sugar'] / meal['carbs'] > 0.5:
            recommendations.append("This meal is high in sugar relative to total carbs. Consider reducing added sugars.")
            
        if fiber_to_carb < 0.1 and meal['carbs'] > 30:
            recommendations.append("The fiber-to-carb ratio is low. Adding fiber may help moderate glucose response.")
            
        if fat_pct < 10 and carb_pct > 60:
            recommendations.append("Consider adding healthy fats to help balance this high-carb meal.")
        
        # Estimate glycemic impact
        glycemic_impact = estimate_glycemic_impact(meal)
        
        # Format the output
        output = []
        
        output.append("## Meal Analysis Results")
        
        output.append("### Macronutrient Composition")
        output.append(f"- Carbs: {meal['carbs']}g ({carb_pct:.1f}%)")
        output.append(f"- Fat: {meal['fat']}g ({fat_pct:.1f}%)")
        output.append(f"- Protein: {meal['protein']}g ({protein_pct:.1f}%)")
        output.append(f"- Fiber: {meal['fiber']}g")
        output.append(f"- Sugar: {meal['sugar']}g")
        
        output.append("\n### Calorie Distribution")
        output.append(f"- Total calories: {total_cals:.0f}")
        output.append(f"- Carb calories: {carb_cals:.0f} ({carb_cal_pct:.1f}%)")
        output.append(f"- Fat calories: {fat_cals:.0f} ({fat_cal_pct:.1f}%)")
        output.append(f"- Protein calories: {protein_cals:.0f} ({protein_cal_pct:.1f}%)")
        
        output.append("\n### Nutrient Ratios")
        output.append(f"- Fiber-to-carb ratio: {fiber_to_carb:.3f}")
        protein_to_carb = meal['protein'] / meal['carbs'] if meal['carbs'] > 0 else 0
        output.append(f"- Protein-to-carb ratio: {protein_to_carb:.3f}")
        
        output.append("\n### Glycemic Impact Factors")
        output.append(f"- Meal characteristics: {', '.join(characteristics)}")
        sugar_to_carb = meal['sugar'] / meal['carbs'] if meal['carbs'] > 0 else 0
        output.append(f"- Sugar-to-carb ratio: {sugar_to_carb:.2f}")
        output.append(f"- Estimated glycemic impact: {glycemic_impact}")
        
        if recommendations:
            output.append("\n### Recommendations")
            for rec in recommendations:
                output.append(f"- {rec}")
        
        return "\n".join(output)
    except Exception as e:
        return f"Analysis error: {str(e)}"

# Glucose Prediction Function
def predict_glucose(bmi, age, sex, calories, carbs, fat, protein, fiber, sugar):
    """Predict glucose response based on person and meal details"""
    person = {
        "bmi": float(bmi),
        "age": int(age),
        "sex": sex
    }
    
    meal = {
        "calories": float(calories),
        "carbs": float(carbs),
        "fat": float(fat),
        "protein": float(protein),
        "fiber": float(fiber),
        "sugar": float(sugar)
    }
    
    # Make prediction
    prediction = predictor.predict_glucose_response(person, meal)
    
    # Enhance response with general guidelines
    guidelines = []
    
    if prediction['risk_level'] == 'High':
        guidelines.append("Consider reducing carbohydrates or adding more fiber to this meal.")
        guidelines.append("Pairing carbohydrates with protein and healthy fats may help reduce glucose impact.")
    elif prediction['risk_level'] == 'Medium':
        guidelines.append("This meal has a moderate impact on blood glucose.")
        guidelines.append("Consider physical activity after eating to help manage glucose levels.")
    else:
        guidelines.append("This meal should have minimal impact on blood glucose levels.")
    
    # Add personalized recommendations
    recommendations = []
    
    # Check if high carbs with low fiber
    if meal['carbs'] > 50 and meal['fiber'] < 5:
        recommendations.append("This meal is high in carbs and low in fiber. Adding fiber can help reduce glucose impact.")
    
    # Check if high sugar
    if meal['sugar'] > 25:
        recommendations.append("This meal is high in sugar. Consider reducing added sugars.")
    
    # Check if balanced macros
    total_cals = meal['carbs'] * 4 + meal['fat'] * 9 + meal['protein'] * 4
    carb_pct = (meal['carbs'] * 4 / total_cals) * 100 if total_cals > 0 else 0
    
    if carb_pct > 60:
        recommendations.append("This meal is very high in carbohydrates. Consider adding more protein or healthy fats.")
    
    # Enhance the response
    enhanced_response = {
        **prediction,
        "guidelines": guidelines,
        "recommendations": recommendations
    }
    
    # Format the output
    output = []
    
    output.append("## Glucose Response Prediction")
    output.append(f"**Insulin AUC Prediction:** {enhanced_response['iauc_prediction']}")
    output.append(f"**Risk Level:** {enhanced_response['risk_level']}")
    output.append(f"**Percentile:** {enhanced_response['percentile']}")
    output.append(f"**Explanation:** {enhanced_response['explanation']}")
    
    output.append("\n**Guidelines:**")
    for guideline in enhanced_response["guidelines"]:
        output.append(f"- {guideline}")
    
    output.append("\n**Recommendations:**")
    for rec in enhanced_response["recommendations"]:
        output.append(f"- {rec}")
    
    return "\n".join(output)

# Create Gradio interface
with gr.Blocks(title="EAT Smart AI") as demo:
    gr.Markdown("# EAT Smart AI - Glucose Response Prediction")
    
    with gr.Tabs():
        with gr.TabItem("Food Image Analysis"):
            with gr.Row():
                with gr.Column():
                    image_input = gr.Image(type="pil", label="Upload Food Image")
                    with gr.Row():
                        bmi_input = gr.Number(label="BMI", value=25.0)
                        age_input = gr.Number(label="Age", value=35)
                    sex_input = gr.Radio(["M", "F"], label="Sex", value="M")
                    analyze_btn = gr.Button("Analyze Food")
                
                image_output = gr.Markdown(label="Analysis Results")
            
            analyze_btn.click(
                analyze_food_image, 
                inputs=[image_input, bmi_input, age_input, sex_input],
                outputs=image_output
            )
        
        with gr.TabItem("Meal Nutrition Analysis"):
            with gr.Row():
                with gr.Column():
                    calories_input = gr.Number(label="Calories", value=500)
                    carbs_input = gr.Number(label="Carbs (g)", value=60)
                    fat_input = gr.Number(label="Fat (g)", value=15)
                    protein_input = gr.Number(label="Protein (g)", value=25)
                    fiber_input = gr.Number(label="Fiber (g)", value=5)
                    sugar_input = gr.Number(label="Sugar (g)", value=20)
                    meal_analyze_btn = gr.Button("Analyze Meal")
                
                meal_output = gr.Markdown(label="Meal Analysis Results")
            
            meal_analyze_btn.click(
                analyze_meal,
                inputs=[calories_input, carbs_input, fat_input, protein_input, fiber_input, sugar_input],
                outputs=meal_output
            )
        
        with gr.TabItem("Glucose Response Prediction"):
            with gr.Row():
                with gr.Column():
                    gr.Markdown("### Person Information")
                    glucose_bmi = gr.Number(label="BMI", value=25.0)
                    glucose_age = gr.Number(label="Age", value=35)
                    glucose_sex = gr.Radio(["M", "F"], label="Sex", value="M")
                    
                    gr.Markdown("### Meal Information")
                    glucose_calories = gr.Number(label="Calories", value=500)
                    glucose_carbs = gr.Number(label="Carbs (g)", value=60)
                    glucose_fat = gr.Number(label="Fat (g)", value=15)
                    glucose_protein = gr.Number(label="Protein (g)", value=25)
                    glucose_fiber = gr.Number(label="Fiber (g)", value=5)
                    glucose_sugar = gr.Number(label="Sugar (g)", value=20)
                    
                    glucose_predict_btn = gr.Button("Predict Glucose Response")
                
                glucose_output = gr.Markdown(label="Prediction Results")
            
            glucose_predict_btn.click(
                predict_glucose,
                inputs=[
                    glucose_bmi, glucose_age, glucose_sex, 
                    glucose_calories, glucose_carbs, glucose_fat, 
                    glucose_protein, glucose_fiber, glucose_sugar
                ],
                outputs=glucose_output
            )
        
        with gr.TabItem("API Documentation"):
            gr.Markdown("""
            # EAT Smart AI - Documentation
            
            This web interface provides direct access to the EAT Smart AI functionality for predicting personalized glucose responses based on individual characteristics and meal composition.
            
            ## Available Features
            
            This Gradio interface offers the following features:
            
            - **Food Image Analysis**: Upload food images to get nutritional analysis and glucose predictions
            - **Meal Nutrition Analysis**: Enter meal nutrition details for analysis
            - **Glucose Response Prediction**: Predict glucose response based on person and meal details
            
            ## How It Works
            
            The application uses a trained machine learning model to predict glucose responses. For food image analysis, it uses a convolutional neural network to identify the food and then predicts nutritional content and glucose response.
            
            ## Using this for Frontend Testing
            
            - This public URL can be shared with your frontend team
            - They can use this interface to understand the expected inputs and outputs
            - For direct API integration, you can implement these same functions in your backend application
            """)

# Launch the Gradio interface with a public URL
demo.launch(share=True)
